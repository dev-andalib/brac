{
 "cells": [
  {
   "cell_type": "code",
   "execution_count": 32,
   "id": "dfca32ab",
   "metadata": {},
   "outputs": [],
   "source": [
    "def bfs(graph,start):\n",
    "    visited = []\n",
    "    queue = [start]\n",
    "    string = \"\"\n",
    "    \n",
    "    while len(queue) != 0:\n",
    "        \n",
    "        node = queue[0]\n",
    "        queue = queue[1:]\n",
    "        \n",
    "        if node not in visited:\n",
    "            visited.append(node)\n",
    "            string += f\"{node} \"\n",
    "        \n",
    "        \n",
    "            for neighbour in graph[node]:\n",
    "                if neighbour not in visited:\n",
    "                    queue.append(neighbour)\n",
    "        \n",
    "    return string\n",
    "\n"
   ]
  },
  {
   "cell_type": "code",
   "execution_count": 34,
   "id": "fe9b9d80",
   "metadata": {},
   "outputs": [],
   "source": [
    "def task2(inputt,output):\n",
    "    with open(inputt,\"r\") as file1:\n",
    "        arr = file1.readline().split(\" \")\n",
    "        n = int(arr[0])\n",
    "        m = int(arr[1])\n",
    "        \n",
    "         \n",
    "        dic = {}\n",
    "        for i in range(n+1):\n",
    "            dic[i] = []\n",
    "        \n",
    "        for i in range(m):\n",
    "            arr = file1.readline().split(\" \")\n",
    "            dic[int(arr[0])].append(int(arr[1]))\n",
    "        \n",
    "        \n",
    "        for i in dic.keys():\n",
    "            for j in dic[i]:\n",
    "                if i not in dic[j]:\n",
    "                    dic[j].append(i)\n",
    "        \n",
    "        \n",
    "        \n",
    "        \n",
    "        \n",
    "        start = 1\n",
    "        string = bfs(dic,start)\n",
    "        \n",
    "        with open(output,\"w\") as file2:\n",
    "            file2.write(string)\n",
    "        \n",
    "        \n",
    "        \n",
    "        \n",
    "        \n",
    "        \n",
    "task2(\"input2_1.txt\",\"output2_1.txt\")\n",
    "task2(\"input2_2.txt\",\"output2_2.txt\")\n",
    "task2(\"input2_3.txt\",\"output2_3.txt\")\n",
    "task2(\"input2_4.txt\",\"output2_4.txt\")"
   ]
  },
  {
   "cell_type": "code",
   "execution_count": null,
   "id": "3ae81ff8",
   "metadata": {},
   "outputs": [],
   "source": []
  }
 ],
 "metadata": {
  "kernelspec": {
   "display_name": "Python 3 (ipykernel)",
   "language": "python",
   "name": "python3"
  },
  "language_info": {
   "codemirror_mode": {
    "name": "ipython",
    "version": 3
   },
   "file_extension": ".py",
   "mimetype": "text/x-python",
   "name": "python",
   "nbconvert_exporter": "python",
   "pygments_lexer": "ipython3",
   "version": "3.9.7"
  }
 },
 "nbformat": 4,
 "nbformat_minor": 5
}
