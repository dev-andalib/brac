{
 "cells": [
  {
   "cell_type": "code",
   "execution_count": 8,
   "id": "5262042a",
   "metadata": {},
   "outputs": [],
   "source": [
    "def task1A(inputt,output):\n",
    "    with open(inputt,\"r\") as file1:\n",
    "        arr = file1.readline().split(\" \")\n",
    "        n = int(arr[0])\n",
    "        m = int(arr[1])\n",
    "        \n",
    "        matrix = [0]*(n+1)\n",
    "        for i in range(n+1):\n",
    "            matrix[i]=([0]*(n+1))\n",
    "        \n",
    "        for i in range(m):\n",
    "            arr = file1.readline().split(\" \")\n",
    "            matrix[int(arr[0])][int(arr[1])] = int(arr[2])\n",
    "        \n",
    "        with open(output,\"a\") as file2:\n",
    "            for i in range(n+1):\n",
    "                for j in range(n+1):\n",
    "                    file2.write(f\"{matrix[i][j]} \")\n",
    "                file2.write(\"\\n\")\n",
    "        \n",
    "\n",
    "task1A(\"input1a_1.txt\",\"output1a_1.txt\")\n",
    "task1A(\"input1a_2.txt\",\"output1a_2.txt\")"
   ]
  },
  {
   "cell_type": "code",
   "execution_count": null,
   "id": "dd5cb3cd",
   "metadata": {},
   "outputs": [],
   "source": []
  }
 ],
 "metadata": {
  "kernelspec": {
   "display_name": "Python 3 (ipykernel)",
   "language": "python",
   "name": "python3"
  },
  "language_info": {
   "codemirror_mode": {
    "name": "ipython",
    "version": 3
   },
   "file_extension": ".py",
   "mimetype": "text/x-python",
   "name": "python",
   "nbconvert_exporter": "python",
   "pygments_lexer": "ipython3",
   "version": "3.10.11"
  }
 },
 "nbformat": 4,
 "nbformat_minor": 5
}
