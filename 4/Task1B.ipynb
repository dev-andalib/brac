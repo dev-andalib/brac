{
 "cells": [
  {
   "cell_type": "code",
   "execution_count": 6,
   "id": "98ff773c",
   "metadata": {},
   "outputs": [],
   "source": [
    "def task1B(inputt,output):\n",
    "    with open(inputt,\"r\") as file1:\n",
    "        arr = file1.readline().split(\" \")\n",
    "        n = int(arr[0])\n",
    "        m = int(arr[1])\n",
    "        \n",
    "        \n",
    "        dic = {}\n",
    "        for i in range(n+1):\n",
    "            dic[i] = []\n",
    "        \n",
    "        for i in range(m):\n",
    "            arr = file1.readline().split(\" \")\n",
    "            dic[int(arr[0])].append((int(arr[1]),int(arr[2])))\n",
    "            \n",
    "        \n",
    "        \n",
    "        with open(output,\"a\") as file2:\n",
    "            for i in dic.keys():\n",
    "                file2.write(f\"{i}: \")\n",
    "                if len(dic[i])==0:\n",
    "                    file2.write(\" \")\n",
    "                else:\n",
    "                    for j in dic[i]:\n",
    "                        file2.write(f\"{j} \")\n",
    "                file2.write(\"\\n\")\n",
    "        \n",
    "\n",
    "task1B(\"input1b_1.txt\",\"output1b_1.txt\")\n",
    "task1B(\"input1b_2.txt\",\"output1b_2.txt\")\n",
    "task1B(\"input1b_3.txt\",\"output1b_3.txt\")"
   ]
  },
  {
   "cell_type": "code",
   "execution_count": null,
   "id": "cb8a3b80",
   "metadata": {},
   "outputs": [],
   "source": []
  }
 ],
 "metadata": {
  "kernelspec": {
   "display_name": "Python 3 (ipykernel)",
   "language": "python",
   "name": "python3"
  },
  "language_info": {
   "codemirror_mode": {
    "name": "ipython",
    "version": 3
   },
   "file_extension": ".py",
   "mimetype": "text/x-python",
   "name": "python",
   "nbconvert_exporter": "python",
   "pygments_lexer": "ipython3",
   "version": "3.10.11"
  }
 },
 "nbformat": 4,
 "nbformat_minor": 5
}
